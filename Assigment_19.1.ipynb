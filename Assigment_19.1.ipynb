{
 "cells": [
  {
   "cell_type": "code",
   "execution_count": 3,
   "metadata": {},
   "outputs": [],
   "source": [
    "#Chi-Square Test of Independence\n",
    "#Null Hypothesis: The two categorical variables (Gender, Education Level) are independent.\n",
    "#Alternative Hypothesis: The two categorical variables(Gender, Education Level)  are dependent.\n",
    "#The chi-square test statistic is calculated by using the formula:\n",
    "#χ2=∑(O−E)2/E\n",
    "#where O represents the observed frequency. E is the expected frequency under the null hypothesis and computed by:\n",
    "# E=row total × column total /sample size\n",
    "#We will compare the value of the test statistic to the critical value of χ2α with degree of freedom = (r - 1) (c - 1), and reject the null hypothesis if χ2>χ2α.\n",
    "#Here's the table of Observed counts ( data that resulted from the survey):\n",
    "# \tHigh School\t Bachelors\tMasters\tPh.d.\tTotal\n",
    "#Female\t60\t54\t46\t41\t201\n",
    "#Male\t40\t44\t53\t57\t194\n",
    "#Total\t100\t98\t99\t98\t395\n",
    "#Here's the table of Expected counts:\n",
    "# \tHigh School\t Bachelors\tMasters\tPh.d.\tTotal\n",
    "#Female\t50.886\t49.868\t50.377\t49.868\t201\n",
    "#Male\t49.114\t48.132\t48.623\t48.132\t194\n",
    "#Total\t100\t98\t99\t98\t395\n",
    "#So, working this out, χ2=(60−50.886)^2/50.886+⋯+(57−48.132)^2/48.132=8.006\n",
    "#The critical value of χ2 with 3 degree of freedom is 7.815. Since 8.006 > 7.815, therefore we reject the null hypothesis and conclude that the education level depends on gender at a 5% level of significance.\n",
    "\n"
   ]
  },
  {
   "cell_type": "code",
   "execution_count": null,
   "metadata": {},
   "outputs": [],
   "source": []
  }
 ],
 "metadata": {
  "kernelspec": {
   "display_name": "Python 3",
   "language": "python",
   "name": "python3"
  },
  "language_info": {
   "codemirror_mode": {
    "name": "ipython",
    "version": 3
   },
   "file_extension": ".py",
   "mimetype": "text/x-python",
   "name": "python",
   "nbconvert_exporter": "python",
   "pygments_lexer": "ipython3",
   "version": "3.6.4"
  }
 },
 "nbformat": 4,
 "nbformat_minor": 2
}
